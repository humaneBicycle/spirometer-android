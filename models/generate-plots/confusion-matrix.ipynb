{
 "cells": [
  {
   "cell_type": "code",
   "execution_count": 1,
   "metadata": {},
   "outputs": [],
   "source": [
    "import latexify as lt"
   ]
  },
  {
   "cell_type": "code",
   "execution_count": 2,
   "metadata": {},
   "outputs": [
    {
     "name": "stderr",
     "output_type": "stream",
     "text": [
      "C:\\ProgramData\\Anaconda3\\lib\\_collections_abc.py:841: MatplotlibDeprecationWarning: Support for setting the 'text.latex.preamble' or 'pgf.preamble' rcParam to a list of strings is deprecated since 3.3 and will be removed two minor releases later; set it to a single string instead.\n",
      "  self[key] = other[key]\n"
     ]
    },
    {
     "data": {
      "image/png": "[encoded data removed]",
      "text/plain": [
       "<Figure size 244.08x144 with 2 Axes>"
      ]
     },
     "metadata": {},
     "output_type": "display_data"
    }
   ],
   "source": [
    "import seaborn as sn\n",
    "import pandas as pd\n",
    "import matplotlib.pyplot as plt\n",
    "lt.latexify(columns=1, fig_height=2)\n",
    "fig, ax = plt.subplots(1,1)\n",
    "\n",
    "array = [[85.7,0.7,13.6],\n",
    "         [0.6,89.7,9.7],\n",
    "         [0.6,0.4,99]]\n",
    "\n",
    "df_cm = pd.DataFrame(array, ['Noise', 'Speech', 'Tidal\\nBreathing'], ['Noise', 'Speech', 'Tidal\\nBreathing'])\n",
    "#plt.figure(figsize=(10,7))\n",
    "\n",
    "#sn.heatmap(df_cm, annot=True)\n",
    "ax = sn.heatmap(df_cm, annot=True, annot_kws={\"size\": 15}, fmt='g', cbar_kws={'label': 'Percentage','ticks': [0, 50,100]}, vmax=100, vmin=0,ax=ax) # font size\n",
    "\n",
    "ax.set_xlabel('Predicted Class');\n",
    "ax.set_ylabel('Ground Truth');\n",
    "\n",
    "\n",
    "lt.format_axes(ax)\n",
    "plt.yticks(rotation=0) \n",
    "plt.tight_layout()\n",
    "plt.savefig(\"confusion-matrix.pdf\", bbox_inches='tight')"
   ]
  },
  {
   "cell_type": "code",
   "execution_count": 17,
   "metadata": {},
   "outputs": [
    {
     "data": {
      "image/png": "[encoded data removed]",
      "text/plain": [
       "<Figure size 244.08x144 with 2 Axes>"
      ]
     },
     "metadata": {},
     "output_type": "display_data"
    }
   ],
   "source": [
    "import seaborn as sn\n",
    "import pandas as pd\n",
    "import matplotlib.pyplot as plt\n",
    "lt.latexify(columns=1, fig_height=2)\n",
    "fig, ax = plt.subplots(1,1)\n",
    "\n",
    "array = [[93.7,0.4,2,3.9],\n",
    "         [0.4,88.7,7,3.9],\n",
    "         [0.9,0.4,97.5,1.3]]\n",
    "\n",
    "df_cm = pd.DataFrame(array, ['Noise', 'Speech', 'Tidal\\nBreathing'], ['Noise', 'Speech', 'Tidal\\nBreathing', 'Uncertain'])\n",
    "#plt.figure(figsize=(10,7))\n",
    "\n",
    "\n",
    "\n",
    "#sn.heatmap(df_cm, annot=True)\n",
    "ax = sn.heatmap(df_cm, annot=True, annot_kws={\"size\": 15}, fmt='g', cbar_kws={'label': 'Percentage','ticks': [0, 50,100]}, vmax=100, vmin=0,ax=ax) # font size\n",
    "\n",
    "ax.set_xlabel('Predicted Class');\n",
    "ax.set_ylabel('Ground Truth');\n",
    "\n",
    "\n",
    "lt.format_axes(ax)\n",
    "plt.yticks(rotation=0) \n",
    "plt.tight_layout()\n",
    "plt.savefig(\"confusion-matrix-uncertain.pdf\", bbox_inches='tight')\n"
   ]
  },
  {
   "cell_type": "code",
   "execution_count": 14,
   "metadata": {},
   "outputs": [
    {
     "data": {
      "text/plain": [
       "3"
      ]
     },
     "execution_count": 14,
     "metadata": {},
     "output_type": "execute_result"
    }
   ],
   "source": [
    "len(array)"
   ]
  },
  {
   "cell_type": "code",
   "execution_count": null,
   "metadata": {},
   "outputs": [],
   "source": []
  }
 ],
 "metadata": {
  "hide_input": false,
  "kernelspec": {
   "display_name": "Python 3",
   "language": "python",
   "name": "python3"
  },
  "language_info": {
   "codemirror_mode": {
    "name": "ipython",
    "version": 3
   },
   "file_extension": ".py",
   "mimetype": "text/x-python",
   "name": "python",
   "nbconvert_exporter": "python",
   "pygments_lexer": "ipython3",
   "version": "3.6.5"
  }
 },
 "nbformat": 4,
 "nbformat_minor": 2
}
