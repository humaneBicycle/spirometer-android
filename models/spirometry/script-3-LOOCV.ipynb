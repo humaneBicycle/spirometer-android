{
 "cells": [
  {
   "cell_type": "code",
   "execution_count": 1,
   "id": "60683e76",
   "metadata": {},
   "outputs": [],
   "source": [
    "import numpy as np\n",
    "import pandas as pd\n",
    "import matplotlib.pyplot as plt\n",
    "%matplotlib inline\n",
    "\n",
    "from sklearn.ensemble import RandomForestRegressor\n",
    "from sklearn.svm import SVR\n",
    "from sklearn.linear_model import Lasso\n",
    "from sklearn.linear_model import Ridge\n",
    "\n",
    "from sklearn.model_selection import GridSearchCV\n",
    "\n",
    "from sklearn.model_selection import LeaveOneOut\n",
    "import warnings\n",
    "warnings.filterwarnings(\"ignore\")"
   ]
  },
  {
   "cell_type": "code",
   "execution_count": 4,
   "id": "08585273",
   "metadata": {},
   "outputs": [],
   "source": [
    "#load data correspoding to PEF, FEV1, FVC\n",
    "X = np.load('features-data/FVC_FEATURES_60.npy')\n",
    "Y = np.load('features-data/FVC_LABELS_60.npy')\n"
   ]
  },
  {
   "cell_type": "code",
   "execution_count": 1,
   "id": "e986d3a7",
   "metadata": {},
   "outputs": [
    {
     "data": {
      "text/plain": [
       "'\\n#LOOCV ONLY\\n#All left out samples\\nloo = LeaveOneOut()\\n\\n#store the predictions here\\nFVC_predictions = []\\n\\n\\nregressor = RandomForestRegressor(n_jobs=-1, bootstrap=True, criterion=\\'mae\\', \\n                                  n_estimators=100,  max_features=\\'auto\\', max_depth=300,  \\n                                  min_samples_leaf=1,min_samples_split=5,random_state=42)\\n\\n# Create a based model\\nmpeList = []\\nfor train_index, test_index in loo.split(all_set):\\n    #print(\"TRAIN:\", train_index, \"TEST:\", test_index)\\n    X_train, X_test = all_set[train_index], all_set[test_index]\\n    y_train, y_test = all_labels[train_index], all_labels[test_index]\\n\\n    \\n\\n    #for RF and SVR\\n    reg = regressor.fit(X_train, y_train)\\n    pred = reg.predict(X_test)\\n    \\n    FVC_predictions.append(pred[0])\\n    \\n   \\n    \\n    #print(\"True FVC = {}, Predicted FVC = {}\".format(y_test,pred))\\n    mpe = 100*np.mean(np.abs((y_test.reshape(-1) -pred)/y_test.reshape(-1)))\\n    mpeList.append(mpe)\\n    #print(\"Error on Participant ID {} is {:2f}\".format(test_index,mpe))\\n    #print(\"\\n\")\\nprint(\"Overall MPE is = {}\".format(np.mean(mpeList)))\\n#print(\"Bootstrap = {},Depth = {}, Features = {}, Leaf = {}, Split = {}, Estimator = {}\".format(bootstrap,depth,features,leaf,split,estimator))\\n\\nFVC_predictions = np.array(FVC_predictions)\\n'"
      ]
     },
     "execution_count": 1,
     "metadata": {},
     "output_type": "execute_result"
    }
   ],
   "source": [
    "\n",
    "#LOOCV ONLY\n",
    "#All left out samples\n",
    "loo = LeaveOneOut()\n",
    "\n",
    "#store the predictions here\n",
    "FVC_predictions = []\n",
    "\n",
    "\n",
    "regressor = RandomForestRegressor(n_jobs=-1, bootstrap=True, criterion='mae', \n",
    "                                  n_estimators=100,  max_features='auto', max_depth=300,  \n",
    "                                  min_samples_leaf=1,min_samples_split=5,random_state=42)\n",
    "\n",
    "# Create a based model\n",
    "mpeList = []\n",
    "for train_index, test_index in loo.split(all_set):\n",
    "    #print(\"TRAIN:\", train_index, \"TEST:\", test_index)\n",
    "    X_train, X_test = all_set[train_index], all_set[test_index]\n",
    "    y_train, y_test = all_labels[train_index], all_labels[test_index]\n",
    "\n",
    "    \n",
    "\n",
    "    #for RF and SVR\n",
    "    reg = regressor.fit(X_train, y_train)\n",
    "    pred = reg.predict(X_test)\n",
    "    \n",
    "    FVC_predictions.append(pred[0])\n",
    "    \n",
    "   \n",
    "    \n",
    "    #print(\"True FVC = {}, Predicted FVC = {}\".format(y_test,pred))\n",
    "    mpe = 100*np.mean(np.abs((y_test.reshape(-1) -pred)/y_test.reshape(-1)))\n",
    "    mpeList.append(mpe)\n",
    "    #print(\"Error on Participant ID {} is {:2f}\".format(test_index,mpe))\n",
    "    #print(\"\\n\")\n",
    "print(\"Overall MPE is = {}\".format(np.mean(mpeList)))\n",
    "#print(\"Bootstrap = {},Depth = {}, Features = {}, Leaf = {}, Split = {}, Estimator = {}\".format(bootstrap,depth,features,leaf,split,estimator))\n",
    "\n",
    "FVC_predictions = np.array(FVC_predictions)\n"
   ]
  },
  {
   "cell_type": "code",
   "execution_count": null,
   "id": "a9c6633f",
   "metadata": {},
   "outputs": [],
   "source": []
  }
 ],
 "metadata": {
  "kernelspec": {
   "display_name": "Python 3",
   "language": "python",
   "name": "python3"
  },
  "language_info": {
   "codemirror_mode": {
    "name": "ipython",
    "version": 3
   },
   "file_extension": ".py",
   "mimetype": "text/x-python",
   "name": "python",
   "nbconvert_exporter": "python",
   "pygments_lexer": "ipython3",
   "version": "3.8.8"
  }
 },
 "nbformat": 4,
 "nbformat_minor": 5
}
