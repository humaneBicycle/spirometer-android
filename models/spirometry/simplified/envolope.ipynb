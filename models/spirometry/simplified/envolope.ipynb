{
 "cells": [
  {
   "attachments": {},
   "cell_type": "markdown",
   "metadata": {},
   "source": [
    "import libraries    \n"
   ]
  },
  {
   "cell_type": "code",
   "execution_count": 18,
   "metadata": {},
   "outputs": [],
   "source": [
    "import librosa\n",
    "import numpy as np\n",
    "import matplotlib.pyplot as plt\n",
    "import pandas as pd\n",
    "import os\n",
    "from scipy.signal import butter, lfilter\n",
    "from scipy import signal"
   ]
  },
  {
   "attachments": {},
   "cell_type": "markdown",
   "metadata": {},
   "source": [
    "defining functions"
   ]
  },
  {
   "cell_type": "code",
   "execution_count": 15,
   "metadata": {},
   "outputs": [],
   "source": [
    "def butter_bandpass(lowcut, highcut, fs, order=5):\n",
    "    nyq = 0.5 * fs\n",
    "    low = lowcut / nyq\n",
    "    high = highcut / nyq\n",
    "    b, a = butter(order, [low, high], btype='band')\n",
    "    return b, a\n",
    "\n",
    "\n",
    "def butter_bandpass_filter(data, lowcut, highcut, fs, order=5):\n",
    "    b, a = butter_bandpass(lowcut, highcut, fs, order=order)\n",
    "    y = lfilter(b, a, data)\n",
    "    return y"
   ]
  },
  {
   "attachments": {},
   "cell_type": "markdown",
   "metadata": {},
   "source": [
    "importing audio from data"
   ]
  },
  {
   "cell_type": "code",
   "execution_count": 16,
   "metadata": {},
   "outputs": [],
   "source": [
    "\n",
    "audio_name = \"sample_1.wav\"\n",
    "x, fs = librosa.load(os.getcwd()+\"\\\\sample_data\\\\audio\\\\\"+audio_name, sr=None)"
   ]
  },
  {
   "attachments": {},
   "cell_type": "markdown",
   "metadata": {},
   "source": [
    "Filtering audio"
   ]
  },
  {
   "cell_type": "code",
   "execution_count": 21,
   "metadata": {},
   "outputs": [],
   "source": [
    "cutoff_low = 3000 # desired cutoff frequency of the filter, Hz\n",
    "cutoff_high = 5000\n",
    "order = 10\n",
    "\n",
    "x_filt = butter_bandpass_filter(x,cutoff_low,cutoff_high,fs,order)\n",
    "x_filt_hilbert = signal.hilbert(x_filt)\n",
    "envelope_hat = np.abs(x_filt_hilbert)\n"
   ]
  },
  {
   "cell_type": "markdown",
   "metadata": {},
   "source": [
    "filter the Hilbert envelope"
   ]
  },
  {
   "cell_type": "code",
   "execution_count": 22,
   "metadata": {},
   "outputs": [],
   "source": [
    "nyq_rate = fs /0.5\n",
    "width = 1.0/nyq_rate # 5 Hz filter transition width.\n",
    "ripple_db = 10.0 # stop band attenuation\n",
    "fL_hz = 10\n",
    "N, beta = signal.kaiserord(ripple_db, width)\n",
    "taps = signal.firwin(N, fL_hz/nyq_rate, window=('kaiser', beta))\n",
    "envelope_hat_filt = signal.filtfilt(taps, 1,envelope_hat)\n",
    "t = np.arange(0,len(envelope_hat_filt))/fs"
   ]
  },
  {
   "attachments": {},
   "cell_type": "markdown",
   "metadata": {},
   "source": [
    "at this point we have the \n",
    "scale the envelope is estimate of flow rate. We will scale this to match actual flow range"
   ]
  },
  {
   "cell_type": "code",
   "execution_count": 25,
   "metadata": {},
   "outputs": [],
   "source": [
    "envelope_hat_filt = np.interp(envelope_hat_filt, (envelope_hat_filt.min(), 1), (0, 8))\n",
    "rPEF = round(envelope_hat_filt.max(),2)\n",
    "\n",
    "estdVolume = np.cumsum(envelope_hat_filt)\n",
    "estdVolume = np.interp(estdVolume, (0, np.cumsum([1]*len(t)).max()), (0, 8))"
   ]
  },
  {
   "attachments": {},
   "cell_type": "markdown",
   "metadata": {},
   "source": [
    "FEV1 Estimate"
   ]
  },
  {
   "cell_type": "code",
   "execution_count": 27,
   "metadata": {},
   "outputs": [
    {
     "name": "stdout",
     "output_type": "stream",
     "text": [
      "rPEF:  1.37\n"
     ]
    }
   ],
   "source": [
    "rFEV1 = round(estdVolume[np.where(t==1)[0][0]],2) \n",
    "print(\"rPEF: \",rPEF)       "
   ]
  },
  {
   "cell_type": "markdown",
   "metadata": {},
   "source": [
    "FVC Estimate"
   ]
  },
  {
   "cell_type": "code",
   "execution_count": 28,
   "metadata": {},
   "outputs": [
    {
     "name": "stdout",
     "output_type": "stream",
     "text": [
      "rFVC:  2.5\n"
     ]
    }
   ],
   "source": [
    "rFVC = round(estdVolume[-1],2)\n",
    "print(\"rFVC: \",rFVC)"
   ]
  },
  {
   "attachments": {},
   "cell_type": "markdown",
   "metadata": {},
   "source": [
    "FVC Ratio"
   ]
  },
  {
   "cell_type": "code",
   "execution_count": 29,
   "metadata": {},
   "outputs": [
    {
     "name": "stdout",
     "output_type": "stream",
     "text": [
      "rRatio:  3.5999999999999996\n"
     ]
    }
   ],
   "source": [
    "rRatio = (rFEV1/rFVC)*100\n",
    "print(\"rRatio: \",rRatio)"
   ]
  },
  {
   "attachments": {},
   "cell_type": "markdown",
   "metadata": {},
   "source": [
    "Plotting graphs"
   ]
  },
  {
   "cell_type": "code",
   "execution_count": 30,
   "metadata": {},
   "outputs": [
    {
     "data": {
      "text/plain": [
       "Text(0, 0.5, 'Estimated Flow')"
      ]
     },
     "execution_count": 30,
     "metadata": {},
     "output_type": "execute_result"
    },
    {
     "data": {
      "image/png": "[encoded data removed]",
      "text/plain": [
       "<Figure size 200x200 with 1 Axes>"
      ]
     },
     "metadata": {},
     "output_type": "display_data"
    }
   ],
   "source": [
    "fig,ax = plt.subplots(1,1,figsize=(2,2))\n",
    "ax.plot(estdVolume, envelope_hat_filt)\n",
    "ax.set_xlabel('Estimated Volume')\n",
    "ax.set_ylabel('Estimated Flow')"
   ]
  },
  {
   "cell_type": "code",
   "execution_count": null,
   "metadata": {},
   "outputs": [],
   "source": []
  }
 ],
 "metadata": {
  "kernelspec": {
   "display_name": "Python 3",
   "language": "python",
   "name": "python3"
  },
  "language_info": {
   "codemirror_mode": {
    "name": "ipython",
    "version": 3
   },
   "file_extension": ".py",
   "mimetype": "text/x-python",
   "name": "python",
   "nbconvert_exporter": "python",
   "pygments_lexer": "ipython3",
   "version": "3.10.1"
  },
  "orig_nbformat": 4
 },
 "nbformat": 4,
 "nbformat_minor": 2
}
